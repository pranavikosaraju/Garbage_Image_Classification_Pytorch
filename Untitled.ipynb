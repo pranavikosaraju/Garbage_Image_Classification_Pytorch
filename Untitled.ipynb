{
 "cells": [
  {
   "cell_type": "code",
   "execution_count": null,
   "id": "5dc08583",
   "metadata": {},
   "outputs": [],
   "source": [
    "a = [1,2,3]"
   ]
  },
  {
   "cell_type": "code",
   "execution_count": null,
   "id": "b85a3cfa",
   "metadata": {},
   "outputs": [],
   "source": [
    "a"
   ]
  },
  {
   "cell_type": "code",
   "execution_count": null,
   "id": "3a208e73",
   "metadata": {},
   "outputs": [],
   "source": [
    "print(a)"
   ]
  },
  {
   "cell_type": "code",
   "execution_count": null,
   "id": "2b31a8d2",
   "metadata": {},
   "outputs": [],
   "source": [
    "a = [1,2,3]\n",
    "b = [3,4,5]\n",
    "print(a,b)"
   ]
  },
  {
   "cell_type": "code",
   "execution_count": null,
   "id": "f4664c58",
   "metadata": {},
   "outputs": [],
   "source": [
    "1"
   ]
  },
  {
   "cell_type": "code",
   "execution_count": null,
   "id": "7efe1082",
   "metadata": {},
   "outputs": [],
   "source": [
    "a = 1,2,4"
   ]
  },
  {
   "cell_type": "code",
   "execution_count": null,
   "id": "bb4571c7",
   "metadata": {},
   "outputs": [],
   "source": [
    "a = [1,2,3]"
   ]
  },
  {
   "cell_type": "code",
   "execution_count": null,
   "id": "45efd8a7",
   "metadata": {},
   "outputs": [],
   "source": [
    "a[0]"
   ]
  },
  {
   "cell_type": "code",
   "execution_count": null,
   "id": "3164f323",
   "metadata": {},
   "outputs": [],
   "source": [
    "a[0]"
   ]
  },
  {
   "cell_type": "code",
   "execution_count": null,
   "id": "19e52a18",
   "metadata": {},
   "outputs": [],
   "source": [
    "a[2]"
   ]
  },
  {
   "cell_type": "code",
   "execution_count": null,
   "id": "0e6b8521",
   "metadata": {},
   "outputs": [],
   "source": [
    "dictionary = {\"Nikitha\": 27, \"Location\": \"Cal\"}"
   ]
  },
  {
   "cell_type": "code",
   "execution_count": null,
   "id": "f3f8786c",
   "metadata": {},
   "outputs": [],
   "source": [
    "dictionary[\"Nikitha\"]"
   ]
  },
  {
   "cell_type": "code",
   "execution_count": null,
   "id": "3baa2d00",
   "metadata": {},
   "outputs": [],
   "source": [
    "type(a)"
   ]
  },
  {
   "cell_type": "code",
   "execution_count": null,
   "id": "2bf1be43",
   "metadata": {},
   "outputs": [],
   "source": [
    "type(dictionary)"
   ]
  },
  {
   "cell_type": "code",
   "execution_count": null,
   "id": "601eb128",
   "metadata": {},
   "outputs": [],
   "source": [
    "a = 10\n",
    "b = 11"
   ]
  },
  {
   "cell_type": "code",
   "execution_count": null,
   "id": "6c42d773",
   "metadata": {},
   "outputs": [],
   "source": [
    "a == b"
   ]
  },
  {
   "cell_type": "code",
   "execution_count": null,
   "id": "28420788",
   "metadata": {},
   "outputs": [],
   "source": [
    "nikitha = 13464"
   ]
  },
  {
   "cell_type": "code",
   "execution_count": null,
   "id": "e4ac9ec1",
   "metadata": {},
   "outputs": [],
   "source": [
    "girl = \"Nikitha\""
   ]
  },
  {
   "cell_type": "code",
   "execution_count": null,
   "id": "8fdb6ea6",
   "metadata": {},
   "outputs": [],
   "source": [
    "nikitha"
   ]
  },
  {
   "cell_type": "code",
   "execution_count": null,
   "id": "03c593fa",
   "metadata": {},
   "outputs": [],
   "source": [
    "nikitha == girl"
   ]
  },
  {
   "cell_type": "code",
   "execution_count": null,
   "id": "9db0c8bb",
   "metadata": {},
   "outputs": [],
   "source": [
    "nikitha"
   ]
  },
  {
   "cell_type": "code",
   "execution_count": null,
   "id": "8effe94f",
   "metadata": {},
   "outputs": [],
   "source": [
    "a = b = 10"
   ]
  },
  {
   "cell_type": "code",
   "execution_count": null,
   "id": "9dff7d11",
   "metadata": {},
   "outputs": [],
   "source": [
    "a"
   ]
  },
  {
   "cell_type": "code",
   "execution_count": null,
   "id": "c46bcd3e",
   "metadata": {},
   "outputs": [],
   "source": [
    "b"
   ]
  },
  {
   "cell_type": "code",
   "execution_count": null,
   "id": "579912ef",
   "metadata": {},
   "outputs": [],
   "source": [
    "a == b"
   ]
  },
  {
   "cell_type": "code",
   "execution_count": null,
   "id": "3d96cf57",
   "metadata": {},
   "outputs": [],
   "source": [
    "print(a,b)"
   ]
  },
  {
   "cell_type": "code",
   "execution_count": null,
   "id": "bf1ce48d",
   "metadata": {},
   "outputs": [],
   "source": [
    "print(a)\n",
    "print(b)"
   ]
  },
  {
   "cell_type": "code",
   "execution_count": null,
   "id": "9b8371e0",
   "metadata": {},
   "outputs": [],
   "source": [
    "print(\"a:\", a, \"b:\",b)"
   ]
  },
  {
   "cell_type": "code",
   "execution_count": null,
   "id": "7957f0ce",
   "metadata": {},
   "outputs": [],
   "source": [
    "print(\"nikitha\", a, \"b\")"
   ]
  },
  {
   "cell_type": "code",
   "execution_count": 1,
   "id": "83ed5755",
   "metadata": {},
   "outputs": [],
   "source": [
    "a = [1,2,3,4,5]"
   ]
  },
  {
   "cell_type": "code",
   "execution_count": 7,
   "id": "f1b30f3a",
   "metadata": {},
   "outputs": [],
   "source": [
    "def split(list):\n",
    "    b =[]\n",
    "    "
   ]
  },
  {
   "cell_type": "code",
   "execution_count": 8,
   "id": "4a7e6f05",
   "metadata": {},
   "outputs": [
    {
     "name": "stdout",
     "output_type": "stream",
     "text": [
      "None\n"
     ]
    }
   ],
   "source": [
    "split(a)"
   ]
  },
  {
   "cell_type": "code",
   "execution_count": null,
   "id": "2595b52a",
   "metadata": {},
   "outputs": [],
   "source": []
  }
 ],
 "metadata": {
  "kernelspec": {
   "display_name": "Python 3 (ipykernel)",
   "language": "python",
   "name": "python3"
  },
  "language_info": {
   "codemirror_mode": {
    "name": "ipython",
    "version": 3
   },
   "file_extension": ".py",
   "mimetype": "text/x-python",
   "name": "python",
   "nbconvert_exporter": "python",
   "pygments_lexer": "ipython3",
   "version": "3.9.7"
  }
 },
 "nbformat": 4,
 "nbformat_minor": 5
}
